{
 "cells": [
  {
   "cell_type": "code",
   "execution_count": 2,
   "metadata": {},
   "outputs": [
    {
     "name": "stdout",
     "output_type": "stream",
     "text": [
      "Intel MKL WARNING: Support of Intel(R) Streaming SIMD Extensions 4.2 (Intel(R) SSE4.2) enabled only processors has been deprecated. Intel oneAPI Math Kernel Library 2025.0 will require Intel(R) Advanced Vector Extensions (Intel(R) AVX) instructions.\n",
      "Intel MKL WARNING: Support of Intel(R) Streaming SIMD Extensions 4.2 (Intel(R) SSE4.2) enabled only processors has been deprecated. Intel oneAPI Math Kernel Library 2025.0 will require Intel(R) Advanced Vector Extensions (Intel(R) AVX) instructions.\n",
      "<class 'pandas.core.frame.DataFrame'>\n",
      "RangeIndex: 3023 entries, 0 to 3022\n",
      "Data columns (total 31 columns):\n",
      " #   Column                                      Non-Null Count  Dtype  \n",
      "---  ------                                      --------------  -----  \n",
      " 0   X                                           3023 non-null   float64\n",
      " 1   Y                                           3023 non-null   float64\n",
      " 2   Unique Squirrel ID                          3023 non-null   object \n",
      " 3   Hectare                                     3023 non-null   object \n",
      " 4   Shift                                       3023 non-null   object \n",
      " 5   Date                                        3023 non-null   int64  \n",
      " 6   Hectare Squirrel Number                     3023 non-null   int64  \n",
      " 7   Age                                         2902 non-null   object \n",
      " 8   Primary Fur Color                           2968 non-null   object \n",
      " 9   Highlight Fur Color                         1937 non-null   object \n",
      " 10  Combination of Primary and Highlight Color  3023 non-null   object \n",
      " 11  Color notes                                 182 non-null    object \n",
      " 12  Location                                    2959 non-null   object \n",
      " 13  Above Ground Sighter Measurement            2909 non-null   object \n",
      " 14  Specific Location                           476 non-null    object \n",
      " 15  Running                                     3023 non-null   bool   \n",
      " 16  Chasing                                     3023 non-null   bool   \n",
      " 17  Climbing                                    3023 non-null   bool   \n",
      " 18  Eating                                      3023 non-null   bool   \n",
      " 19  Foraging                                    3023 non-null   bool   \n",
      " 20  Other Activities                            437 non-null    object \n",
      " 21  Kuks                                        3023 non-null   bool   \n",
      " 22  Quaas                                       3023 non-null   bool   \n",
      " 23  Moans                                       3023 non-null   bool   \n",
      " 24  Tail flags                                  3023 non-null   bool   \n",
      " 25  Tail twitches                               3023 non-null   bool   \n",
      " 26  Approaches                                  3023 non-null   bool   \n",
      " 27  Indifferent                                 3023 non-null   bool   \n",
      " 28  Runs from                                   3023 non-null   bool   \n",
      " 29  Other Interactions                          240 non-null    object \n",
      " 30  Lat/Long                                    3023 non-null   object \n",
      "dtypes: bool(13), float64(2), int64(2), object(14)\n",
      "memory usage: 463.6+ KB\n"
     ]
    }
   ],
   "source": [
    "import pandas as pd\n",
    "sqrl = pd.read_csv('../data/2018_Central_Park_Squirrel_Census_-_Squirrel_Data.csv')\n",
    "sqrl.head()\n",
    "\n",
    "sqrl.info()"
   ]
  },
  {
   "cell_type": "markdown",
   "metadata": {},
   "source": [
    "# Ideas for visualization\n",
    "\n",
    "- Are quaas and tail flagging correlated since both are involving presence of predators?\n",
    "\n",
    "- What sound was morem common? Was that more common in certain areas?\n",
    "\n",
    "- What are teh squirrels doing the most? Running, chasing, climbing, etc...?"
   ]
  },
  {
   "cell_type": "markdown",
   "metadata": {},
   "source": [
    "## Import libraries"
   ]
  },
  {
   "cell_type": "code",
   "execution_count": 3,
   "metadata": {},
   "outputs": [],
   "source": [
    "import seaborn as sns\n",
    "import pandas as pd\n",
    "import numpy as np\n",
    "import matplotlib.pyplot as plt"
   ]
  },
  {
   "cell_type": "code",
   "execution_count": 4,
   "metadata": {},
   "outputs": [
    {
     "name": "stdout",
     "output_type": "stream",
     "text": [
      "      Running  Chasing  Climbing  Eating  Foraging\n",
      "0       False    False     False   False     False\n",
      "1       False    False     False   False     False\n",
      "2       False     True     False   False     False\n",
      "3       False    False     False    True      True\n",
      "4       False    False     False   False      True\n",
      "...       ...      ...       ...     ...       ...\n",
      "3018    False    False     False    True      True\n",
      "3019    False    False     False   False      True\n",
      "3020    False    False     False    True      True\n",
      "3021    False    False     False    True     False\n",
      "3022    False    False     False    True      True\n",
      "\n",
      "[3023 rows x 5 columns]\n"
     ]
    }
   ],
   "source": [
    "# make new dataframe with just the chosen activities \n",
    "activities = sqrl[\n",
    "    ['Running', 'Chasing', 'Climbing', 'Eating', 'Foraging'] # chosen activies \n",
    "]\n",
    "print(activities)\n",
    "\n",
    "# make list with sum of the number of rows that are True for each activity \n",
    "counts = activities.sum()"
   ]
  },
  {
   "cell_type": "code",
   "execution_count": 11,
   "metadata": {},
   "outputs": [
    {
     "data": {
      "text/plain": [
       "([<matplotlib.patches.Wedge at 0x7f9c43327ac0>,\n",
       "  <matplotlib.patches.Wedge at 0x7f9c43327a00>,\n",
       "  <matplotlib.patches.Wedge at 0x7f9c4336c6d0>,\n",
       "  <matplotlib.patches.Wedge at 0x7f9c4336cc10>,\n",
       "  <matplotlib.patches.Wedge at 0x7f9c4336d270>],\n",
       " [Text(0.911685511303553, 0.6154912903357604, 'Running'),\n",
       "  Text(0.17110568060127493, 1.0866107150520719, 'Chasing'),\n",
       "  Text(-0.6265695399315573, 0.904107632768332, 'Climbing'),\n",
       "  Text(-1.0804689934697649, -0.2063655837353536, 'Eating'),\n",
       "  Text(0.43188085538210996, -1.0116713531352053, 'Foraging')],\n",
       " [Text(0.4972830061655743, 0.33572252200132385, '18.9%'),\n",
       "  Text(0.09333037123705903, 0.5926967536647664, '7.2%'),\n",
       "  Text(-0.3417652035990312, 0.49314961787363554, '17.0%'),\n",
       "  Text(-0.5893467237107808, -0.11256304567382923, '19.7%'),\n",
       "  Text(0.23557137566296904, -0.5518207380737483, '37.2%')])"
      ]
     },
     "execution_count": 11,
     "metadata": {},
     "output_type": "execute_result"
    },
    {
     "data": {
      "image/png": "[encoded data removed]",
      "text/plain": [
       "<Figure size 640x480 with 1 Axes>"
      ]
     },
     "metadata": {},
     "output_type": "display_data"
    }
   ],
   "source": [
    "# make colors for chart \n",
    "colors = ['darkgreen', 'c', '#B7C3F3', '#DD7596', '#8EB897']\n",
    "\n",
    "# make pie chart for activities\n",
    "plt.pie(counts,labels=['Running', 'Chasing', 'Climbing', 'Eating', 'Foraging'],\n",
    "        autopct='%1.1f%%',\n",
    "        colors = colors) # add percent"
   ]
  },
  {
   "cell_type": "code",
   "execution_count": null,
   "metadata": {},
   "outputs": [],
   "source": []
  }
 ],
 "metadata": {
  "kernelspec": {
   "display_name": "eds217_2023",
   "language": "python",
   "name": "python3"
  },
  "language_info": {
   "codemirror_mode": {
    "name": "ipython",
    "version": 3
   },
   "file_extension": ".py",
   "mimetype": "text/x-python",
   "name": "python",
   "nbconvert_exporter": "python",
   "pygments_lexer": "ipython3",
   "version": "3.10.12"
  },
  "orig_nbformat": 4
 },
 "nbformat": 4,
 "nbformat_minor": 2
}
